{
 "cells": [
  {
   "cell_type": "code",
   "execution_count": null,
   "metadata": {},
   "outputs": [],
   "source": [
    "# 參考 \n",
    "# https://www.youtube.com/watch?v=FUmQihwrO1g\n",
    "# http://ivanjo39191.pixnet.net/blog/post/158421111-python-%E7%88%AC%E8%9F%B2%E5%AF%A6%E4%BD%9C%EF%BC%9A%E4%B8%8B%E8%BC%89%E7%B6%B2%E8%B7%AF%E9%9B%BB%E5%AD%90%E6%9B%B8\n"
   ]
  },
  {
   "cell_type": "code",
   "execution_count": null,
   "metadata": {},
   "outputs": [],
   "source": [
    "# 示範網址\n",
    "# http://www.image-net.org/synset?wnid=n02512053"
   ]
  },
  {
   "cell_type": "markdown",
   "metadata": {},
   "source": [
    "# 下載步驟\n",
    "* 1.到網址位置\n",
    "* 2.對Downloads URLs右鍵另存連結\n",
    "* 3.open裡面貼上下載下來的txt文件位置"
   ]
  },
  {
   "cell_type": "code",
   "execution_count": null,
   "metadata": {},
   "outputs": [],
   "source": []
  },
  {
   "cell_type": "code",
   "execution_count": 15,
   "metadata": {},
   "outputs": [],
   "source": [
    "import requests,os\n",
    "from urllib.request import urlretrieve\n",
    "import re\n",
    "from bs4 import BeautifulSoup\n",
    "from urllib.error import HTTPError\n",
    "from urllib.error import URLError\n",
    "\n",
    "import time"
   ]
  },
  {
   "cell_type": "code",
   "execution_count": 16,
   "metadata": {},
   "outputs": [],
   "source": [
    "text = open(\"C:/Users/user/0notebooks/000-ImageNet/imagenet.synset.txt\")\n",
    "# 先讀該txt位置\n",
    "lines = text.readlines()\n",
    "first = lines"
   ]
  },
  {
   "cell_type": "code",
   "execution_count": 25,
   "metadata": {},
   "outputs": [
    {
     "data": {
      "text/plain": [
       "1308"
      ]
     },
     "execution_count": 25,
     "metadata": {},
     "output_type": "execute_result"
    }
   ],
   "source": [
    "len(first)"
   ]
  },
  {
   "cell_type": "code",
   "execution_count": null,
   "metadata": {},
   "outputs": [],
   "source": []
  },
  {
   "cell_type": "markdown",
   "metadata": {},
   "source": [
    "# 如果異常終止，可以從range調整從哪邊繼續開始下載圖片\n",
    "## 記得count 也要重新設定，不然檔案會被覆蓋掉"
   ]
  },
  {
   "cell_type": "code",
   "execution_count": 31,
   "metadata": {},
   "outputs": [],
   "source": [
    "# 如果一直出現，遠端主機已強制關閉一個現存的連線，那就換ip吧\n",
    "# 應該是被擋了"
   ]
  },
  {
   "cell_type": "code",
   "execution_count": null,
   "metadata": {},
   "outputs": [],
   "source": [
    "links=[]\n",
    "    \n",
    "for i in range(100):\n",
    "# 這邊的range自己修改，看要抓幾張\n",
    "    links.append(first[i])\n",
    "count=1\n",
    "\n",
    "for link in links:\n",
    "    try:     \n",
    "    #這邊try 因為考慮到網址的圖死掉的例外\n",
    "        local = os.path.join('C:/Users/user/0notebooks/000-ImageNet/pic/%s.jpg' % count)  #檔案儲存位置  檔案名字隨自己更改\n",
    "        count +=1\n",
    "        urlretrieve(link,local)\n",
    "        #休息避免被檔爬蟲\n",
    "        print('第',count-1,'張下載完成!')\n",
    "\n",
    "    except (HTTPError,URLError):\n",
    "    # 即使圖死掉了，也繼續抓，看錯誤的話 就會發現是該網站死圖\n",
    "        time.sleep(2)\n",
    "        #碰到死圖就休息2秒鐘，免得爬蟲被檔\n",
    "        pass\n",
    "    continue"
   ]
  },
  {
   "cell_type": "code",
   "execution_count": null,
   "metadata": {},
   "outputs": [],
   "source": []
  },
  {
   "cell_type": "markdown",
   "metadata": {},
   "source": [
    "## 以下這段 參考用(例外情況)"
   ]
  },
  {
   "cell_type": "code",
   "execution_count": null,
   "metadata": {},
   "outputs": [],
   "source": [
    "except (HTTPError,URLError):\n",
    "    # 即使圖死掉了，也繼續抓，看錯誤的話 就會發現是該網站死圖\n",
    "        time.sleep(2)\n",
    "        #碰到死圖就休息2秒鐘，免得爬蟲被檔\n",
    "        pass\n",
    "    continue"
   ]
  },
  {
   "cell_type": "code",
   "execution_count": null,
   "metadata": {},
   "outputs": [],
   "source": []
  },
  {
   "cell_type": "code",
   "execution_count": null,
   "metadata": {},
   "outputs": [],
   "source": []
  },
  {
   "cell_type": "code",
   "execution_count": null,
   "metadata": {},
   "outputs": [],
   "source": []
  },
  {
   "cell_type": "code",
   "execution_count": null,
   "metadata": {},
   "outputs": [],
   "source": []
  },
  {
   "cell_type": "code",
   "execution_count": null,
   "metadata": {},
   "outputs": [],
   "source": []
  },
  {
   "cell_type": "code",
   "execution_count": null,
   "metadata": {},
   "outputs": [],
   "source": []
  },
  {
   "cell_type": "code",
   "execution_count": null,
   "metadata": {},
   "outputs": [],
   "source": []
  },
  {
   "cell_type": "code",
   "execution_count": null,
   "metadata": {},
   "outputs": [],
   "source": []
  },
  {
   "cell_type": "code",
   "execution_count": null,
   "metadata": {},
   "outputs": [],
   "source": []
  },
  {
   "cell_type": "code",
   "execution_count": null,
   "metadata": {},
   "outputs": [],
   "source": []
  }
 ],
 "metadata": {
  "kernelspec": {
   "display_name": "Python 3",
   "language": "python",
   "name": "python3"
  },
  "language_info": {
   "codemirror_mode": {
    "name": "ipython",
    "version": 3
   },
   "file_extension": ".py",
   "mimetype": "text/x-python",
   "name": "python",
   "nbconvert_exporter": "python",
   "pygments_lexer": "ipython3",
   "version": "3.5.6"
  }
 },
 "nbformat": 4,
 "nbformat_minor": 2
}
